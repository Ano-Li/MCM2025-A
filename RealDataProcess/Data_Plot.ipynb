{
 "cells": [
  {
   "cell_type": "code",
   "execution_count": 1,
   "metadata": {},
   "outputs": [],
   "source": [
    "# 第一组\n",
    "data1 = [458.021800777895, 424.636768192623, 330.130564909407]\n",
    "\n",
    "# 第二组\n",
    "data2 = [97.6351591016137, 97.3676782182159, 115.660168087834]\n"
   ]
  },
  {
   "cell_type": "code",
   "execution_count": 2,
   "metadata": {},
   "outputs": [],
   "source": [
    "import pandas as pd\n",
    "\n",
    "# 组装到一个 DataFrame 中\n",
    "df = pd.DataFrame({\n",
    "    'value': data1 + data2,\n",
    "    'group': ['第一组'] * len(data1) + ['第二组'] * len(data2)\n",
    "})\n"
   ]
  },
  {
   "cell_type": "code",
   "execution_count": 3,
   "metadata": {},
   "outputs": [
    {
     "name": "stderr",
     "output_type": "stream",
     "text": [
      "/var/folders/rb/rrb3v7zx6kd785jd90mmtbvm0000gn/T/ipykernel_78178/1252663389.py:9: FutureWarning: \n",
      "\n",
      "Passing `palette` without assigning `hue` is deprecated and will be removed in v0.14.0. Assign the `x` variable to `hue` and set `legend=False` for the same effect.\n",
      "\n",
      "  sns.boxplot(x='group', y='value', data=df, width=0.5, palette='Pastel1')\n",
      "/var/folders/rb/rrb3v7zx6kd785jd90mmtbvm0000gn/T/ipykernel_78178/1252663389.py:18: UserWarning: Glyph 31532 (\\N{CJK UNIFIED IDEOGRAPH-7B2C}) missing from font(s) Arial.\n",
      "  plt.tight_layout()\n",
      "/var/folders/rb/rrb3v7zx6kd785jd90mmtbvm0000gn/T/ipykernel_78178/1252663389.py:18: UserWarning: Glyph 19968 (\\N{CJK UNIFIED IDEOGRAPH-4E00}) missing from font(s) Arial.\n",
      "  plt.tight_layout()\n",
      "/var/folders/rb/rrb3v7zx6kd785jd90mmtbvm0000gn/T/ipykernel_78178/1252663389.py:18: UserWarning: Glyph 32452 (\\N{CJK UNIFIED IDEOGRAPH-7EC4}) missing from font(s) Arial.\n",
      "  plt.tight_layout()\n",
      "/var/folders/rb/rrb3v7zx6kd785jd90mmtbvm0000gn/T/ipykernel_78178/1252663389.py:18: UserWarning: Glyph 20108 (\\N{CJK UNIFIED IDEOGRAPH-4E8C}) missing from font(s) Arial.\n",
      "  plt.tight_layout()\n",
      "/var/folders/rb/rrb3v7zx6kd785jd90mmtbvm0000gn/T/ipykernel_78178/1252663389.py:18: UserWarning: Glyph 21035 (\\N{CJK UNIFIED IDEOGRAPH-522B}) missing from font(s) Arial.\n",
      "  plt.tight_layout()\n",
      "/var/folders/rb/rrb3v7zx6kd785jd90mmtbvm0000gn/T/ipykernel_78178/1252663389.py:18: UserWarning: Glyph 24180 (\\N{CJK UNIFIED IDEOGRAPH-5E74}) missing from font(s) Arial.\n",
      "  plt.tight_layout()\n",
      "/var/folders/rb/rrb3v7zx6kd785jd90mmtbvm0000gn/T/ipykernel_78178/1252663389.py:18: UserWarning: Glyph 40836 (\\N{CJK UNIFIED IDEOGRAPH-9F84}) missing from font(s) Arial.\n",
      "  plt.tight_layout()\n",
      "/var/folders/rb/rrb3v7zx6kd785jd90mmtbvm0000gn/T/ipykernel_78178/1252663389.py:18: UserWarning: Glyph 65288 (\\N{FULLWIDTH LEFT PARENTHESIS}) missing from font(s) Arial.\n",
      "  plt.tight_layout()\n",
      "/var/folders/rb/rrb3v7zx6kd785jd90mmtbvm0000gn/T/ipykernel_78178/1252663389.py:18: UserWarning: Glyph 65289 (\\N{FULLWIDTH RIGHT PARENTHESIS}) missing from font(s) Arial.\n",
      "  plt.tight_layout()\n",
      "/var/folders/rb/rrb3v7zx6kd785jd90mmtbvm0000gn/T/ipykernel_78178/1252663389.py:18: UserWarning: Glyph 20004 (\\N{CJK UNIFIED IDEOGRAPH-4E24}) missing from font(s) Arial.\n",
      "  plt.tight_layout()\n",
      "/var/folders/rb/rrb3v7zx6kd785jd90mmtbvm0000gn/T/ipykernel_78178/1252663389.py:18: UserWarning: Glyph 21488 (\\N{CJK UNIFIED IDEOGRAPH-53F0}) missing from font(s) Arial.\n",
      "  plt.tight_layout()\n",
      "/var/folders/rb/rrb3v7zx6kd785jd90mmtbvm0000gn/T/ipykernel_78178/1252663389.py:18: UserWarning: Glyph 38454 (\\N{CJK UNIFIED IDEOGRAPH-9636}) missing from font(s) Arial.\n",
      "  plt.tight_layout()\n",
      "/var/folders/rb/rrb3v7zx6kd785jd90mmtbvm0000gn/T/ipykernel_78178/1252663389.py:18: UserWarning: Glyph 25968 (\\N{CJK UNIFIED IDEOGRAPH-6570}) missing from font(s) Arial.\n",
      "  plt.tight_layout()\n",
      "/var/folders/rb/rrb3v7zx6kd785jd90mmtbvm0000gn/T/ipykernel_78178/1252663389.py:18: UserWarning: Glyph 25454 (\\N{CJK UNIFIED IDEOGRAPH-636E}) missing from font(s) Arial.\n",
      "  plt.tight_layout()\n",
      "/var/folders/rb/rrb3v7zx6kd785jd90mmtbvm0000gn/T/ipykernel_78178/1252663389.py:18: UserWarning: Glyph 30340 (\\N{CJK UNIFIED IDEOGRAPH-7684}) missing from font(s) Arial.\n",
      "  plt.tight_layout()\n",
      "/var/folders/rb/rrb3v7zx6kd785jd90mmtbvm0000gn/T/ipykernel_78178/1252663389.py:18: UserWarning: Glyph 39044 (\\N{CJK UNIFIED IDEOGRAPH-9884}) missing from font(s) Arial.\n",
      "  plt.tight_layout()\n",
      "/var/folders/rb/rrb3v7zx6kd785jd90mmtbvm0000gn/T/ipykernel_78178/1252663389.py:18: UserWarning: Glyph 27979 (\\N{CJK UNIFIED IDEOGRAPH-6D4B}) missing from font(s) Arial.\n",
      "  plt.tight_layout()\n",
      "/var/folders/rb/rrb3v7zx6kd785jd90mmtbvm0000gn/T/ipykernel_78178/1252663389.py:18: UserWarning: Glyph 23545 (\\N{CJK UNIFIED IDEOGRAPH-5BF9}) missing from font(s) Arial.\n",
      "  plt.tight_layout()\n",
      "/var/folders/rb/rrb3v7zx6kd785jd90mmtbvm0000gn/T/ipykernel_78178/1252663389.py:18: UserWarning: Glyph 27604 (\\N{CJK UNIFIED IDEOGRAPH-6BD4}) missing from font(s) Arial.\n",
      "  plt.tight_layout()\n",
      "/Users/ano/anaconda3/envs/Digital-SMLM/lib/python3.9/site-packages/IPython/core/pylabtools.py:152: UserWarning: Glyph 31532 (\\N{CJK UNIFIED IDEOGRAPH-7B2C}) missing from font(s) Arial.\n",
      "  fig.canvas.print_figure(bytes_io, **kw)\n",
      "/Users/ano/anaconda3/envs/Digital-SMLM/lib/python3.9/site-packages/IPython/core/pylabtools.py:152: UserWarning: Glyph 19968 (\\N{CJK UNIFIED IDEOGRAPH-4E00}) missing from font(s) Arial.\n",
      "  fig.canvas.print_figure(bytes_io, **kw)\n",
      "/Users/ano/anaconda3/envs/Digital-SMLM/lib/python3.9/site-packages/IPython/core/pylabtools.py:152: UserWarning: Glyph 32452 (\\N{CJK UNIFIED IDEOGRAPH-7EC4}) missing from font(s) Arial.\n",
      "  fig.canvas.print_figure(bytes_io, **kw)\n",
      "/Users/ano/anaconda3/envs/Digital-SMLM/lib/python3.9/site-packages/IPython/core/pylabtools.py:152: UserWarning: Glyph 20108 (\\N{CJK UNIFIED IDEOGRAPH-4E8C}) missing from font(s) Arial.\n",
      "  fig.canvas.print_figure(bytes_io, **kw)\n",
      "/Users/ano/anaconda3/envs/Digital-SMLM/lib/python3.9/site-packages/IPython/core/pylabtools.py:152: UserWarning: Glyph 21035 (\\N{CJK UNIFIED IDEOGRAPH-522B}) missing from font(s) Arial.\n",
      "  fig.canvas.print_figure(bytes_io, **kw)\n",
      "/Users/ano/anaconda3/envs/Digital-SMLM/lib/python3.9/site-packages/IPython/core/pylabtools.py:152: UserWarning: Glyph 24180 (\\N{CJK UNIFIED IDEOGRAPH-5E74}) missing from font(s) Arial.\n",
      "  fig.canvas.print_figure(bytes_io, **kw)\n",
      "/Users/ano/anaconda3/envs/Digital-SMLM/lib/python3.9/site-packages/IPython/core/pylabtools.py:152: UserWarning: Glyph 40836 (\\N{CJK UNIFIED IDEOGRAPH-9F84}) missing from font(s) Arial.\n",
      "  fig.canvas.print_figure(bytes_io, **kw)\n",
      "/Users/ano/anaconda3/envs/Digital-SMLM/lib/python3.9/site-packages/IPython/core/pylabtools.py:152: UserWarning: Glyph 65288 (\\N{FULLWIDTH LEFT PARENTHESIS}) missing from font(s) Arial.\n",
      "  fig.canvas.print_figure(bytes_io, **kw)\n",
      "/Users/ano/anaconda3/envs/Digital-SMLM/lib/python3.9/site-packages/IPython/core/pylabtools.py:152: UserWarning: Glyph 65289 (\\N{FULLWIDTH RIGHT PARENTHESIS}) missing from font(s) Arial.\n",
      "  fig.canvas.print_figure(bytes_io, **kw)\n",
      "/Users/ano/anaconda3/envs/Digital-SMLM/lib/python3.9/site-packages/IPython/core/pylabtools.py:152: UserWarning: Glyph 20004 (\\N{CJK UNIFIED IDEOGRAPH-4E24}) missing from font(s) Arial.\n",
      "  fig.canvas.print_figure(bytes_io, **kw)\n",
      "/Users/ano/anaconda3/envs/Digital-SMLM/lib/python3.9/site-packages/IPython/core/pylabtools.py:152: UserWarning: Glyph 21488 (\\N{CJK UNIFIED IDEOGRAPH-53F0}) missing from font(s) Arial.\n",
      "  fig.canvas.print_figure(bytes_io, **kw)\n",
      "/Users/ano/anaconda3/envs/Digital-SMLM/lib/python3.9/site-packages/IPython/core/pylabtools.py:152: UserWarning: Glyph 38454 (\\N{CJK UNIFIED IDEOGRAPH-9636}) missing from font(s) Arial.\n",
      "  fig.canvas.print_figure(bytes_io, **kw)\n",
      "/Users/ano/anaconda3/envs/Digital-SMLM/lib/python3.9/site-packages/IPython/core/pylabtools.py:152: UserWarning: Glyph 25968 (\\N{CJK UNIFIED IDEOGRAPH-6570}) missing from font(s) Arial.\n",
      "  fig.canvas.print_figure(bytes_io, **kw)\n",
      "/Users/ano/anaconda3/envs/Digital-SMLM/lib/python3.9/site-packages/IPython/core/pylabtools.py:152: UserWarning: Glyph 25454 (\\N{CJK UNIFIED IDEOGRAPH-636E}) missing from font(s) Arial.\n",
      "  fig.canvas.print_figure(bytes_io, **kw)\n",
      "/Users/ano/anaconda3/envs/Digital-SMLM/lib/python3.9/site-packages/IPython/core/pylabtools.py:152: UserWarning: Glyph 30340 (\\N{CJK UNIFIED IDEOGRAPH-7684}) missing from font(s) Arial.\n",
      "  fig.canvas.print_figure(bytes_io, **kw)\n",
      "/Users/ano/anaconda3/envs/Digital-SMLM/lib/python3.9/site-packages/IPython/core/pylabtools.py:152: UserWarning: Glyph 39044 (\\N{CJK UNIFIED IDEOGRAPH-9884}) missing from font(s) Arial.\n",
      "  fig.canvas.print_figure(bytes_io, **kw)\n",
      "/Users/ano/anaconda3/envs/Digital-SMLM/lib/python3.9/site-packages/IPython/core/pylabtools.py:152: UserWarning: Glyph 27979 (\\N{CJK UNIFIED IDEOGRAPH-6D4B}) missing from font(s) Arial.\n",
      "  fig.canvas.print_figure(bytes_io, **kw)\n",
      "/Users/ano/anaconda3/envs/Digital-SMLM/lib/python3.9/site-packages/IPython/core/pylabtools.py:152: UserWarning: Glyph 23545 (\\N{CJK UNIFIED IDEOGRAPH-5BF9}) missing from font(s) Arial.\n",
      "  fig.canvas.print_figure(bytes_io, **kw)\n",
      "/Users/ano/anaconda3/envs/Digital-SMLM/lib/python3.9/site-packages/IPython/core/pylabtools.py:152: UserWarning: Glyph 27604 (\\N{CJK UNIFIED IDEOGRAPH-6BD4}) missing from font(s) Arial.\n",
      "  fig.canvas.print_figure(bytes_io, **kw)\n"
     ]
    },
    {
     "data": {
      "image/png": "[encoded data removed]",
      "text/plain": [
       "<Figure size 600x400 with 1 Axes>"
      ]
     },
     "metadata": {},
     "output_type": "display_data"
    }
   ],
   "source": [
    "import seaborn as sns\n",
    "import matplotlib.pyplot as plt\n",
    "\n",
    "# 设置绘图风格（可选）\n",
    "sns.set_style('whitegrid')  \n",
    "\n",
    "# 绘图\n",
    "plt.figure(figsize=(6, 4))  # 设置图表大小\n",
    "sns.boxplot(x='group', y='value', data=df, width=0.5, palette='Pastel1') \n",
    "sns.stripplot(x='group', y='value', data=df, color='black', alpha=0.7, size=8)\n",
    "\n",
    "# 设置坐标轴标题（可根据实际需求修改）\n",
    "plt.xlabel(\"组别\", fontsize=12)\n",
    "plt.ylabel(\"年龄（年）\", fontsize=12)\n",
    "plt.title(\"两组台阶数据的年龄预测对比\", fontsize=14)\n",
    "\n",
    "# 显示图表\n",
    "plt.tight_layout()\n",
    "plt.show()\n"
   ]
  }
 ],
 "metadata": {
  "kernelspec": {
   "display_name": "Digital-SMLM",
   "language": "python",
   "name": "python3"
  },
  "language_info": {
   "codemirror_mode": {
    "name": "ipython",
    "version": 3
   },
   "file_extension": ".py",
   "mimetype": "text/x-python",
   "name": "python",
   "nbconvert_exporter": "python",
   "pygments_lexer": "ipython3",
   "version": "3.9.19"
  }
 },
 "nbformat": 4,
 "nbformat_minor": 2
}
